{
 "cells": [
  {
   "cell_type": "markdown",
   "metadata": {},
   "source": [
    "### Ebay Authorization"
   ]
  },
  {
   "cell_type": "code",
   "execution_count": 17,
   "metadata": {},
   "outputs": [],
   "source": [
    "from ebayrest import Client\n",
    "import urllib\n",
    "client = Client(\n",
    "    client_id='Moonligh-2e4b-46b6-af89-3344951cc5d1',\n",
    "    client_secret='080ef77a-d5cf-4cd1-a519-feb2d9d4a426'\n",
    ")"
   ]
  },
  {
   "cell_type": "markdown",
   "metadata": {},
   "source": [
    "#### Get Code"
   ]
  },
  {
   "cell_type": "code",
   "execution_count": 3,
   "metadata": {},
   "outputs": [
    {
     "name": "stdout",
     "output_type": "stream",
     "text": [
      "https://auth.ebay.com/oauth2/authorize?state=1234&redirect_uri=Moonlight_Feath-Moonligh-2e4b-4-dbhhevnsq&response_type=code&client_id=Moonligh-2e4b-46b6-af89-3344951cc5d1\n"
     ]
    }
   ],
   "source": [
    "ebay_scopes = [\n",
    "    'https://api.ebay.com/oauth/api_scope/sell.inventory.readonly',\n",
    "    'https://api.ebay.com/oauth/api_scope/sell.inventory',\n",
    "    'https://api.ebay.com/oauth/api_scope/sell.fulfillment.readonly',\n",
    "    'https://api.ebay.com/oauth/api_scope/sell.fulfillment',\n",
    "]\n",
    "url = client.get_auth_code_url(state='1234', redirect_uri='Moonlight_Feath-Moonligh-2e4b-4-dbhhevnsq', scope=ebay_scopes)\n",
    "print(url)"
   ]
  },
  {
   "cell_type": "code",
   "execution_count": 18,
   "metadata": {},
   "outputs": [],
   "source": [
    "code = 'v%5E1.1%23i%5E1%23I%5E3%23r%5E1%23p%5E3%23f%5E0%23t%5EUl41XzExOjVFRDBFN0MzQkRCNTFDMzU3NDY0MzY1RjRFRTk5NzU3XzBfMSNFXjI2MA%3D%3D'"
   ]
  },
  {
   "cell_type": "code",
   "execution_count": 19,
   "metadata": {},
   "outputs": [],
   "source": [
    "import urllib"
   ]
  },
  {
   "cell_type": "code",
   "execution_count": 21,
   "metadata": {},
   "outputs": [],
   "source": [
    "unquote_code = urllib.unquote(code)"
   ]
  },
  {
   "cell_type": "code",
   "execution_count": 22,
   "metadata": {},
   "outputs": [
    {
     "data": {
      "text/plain": [
       "'v^1.1#i^1#I^3#r^1#p^3#f^0#t^Ul41XzExOjVFRDBFN0MzQkRCNTFDMzU3NDY0MzY1RjRFRTk5NzU3XzBfMSNFXjI2MA=='"
      ]
     },
     "execution_count": 22,
     "metadata": {},
     "output_type": "execute_result"
    }
   ],
   "source": [
    "unquote_code"
   ]
  },
  {
   "cell_type": "markdown",
   "metadata": {
    "collapsed": true
   },
   "source": [
    "#### Get Token"
   ]
  },
  {
   "cell_type": "code",
   "execution_count": 23,
   "metadata": {},
   "outputs": [],
   "source": [
    "r = client.get_user_token(unquote_code, 'Moonlight_Feath-Moonligh-2e4b-4-dbhhevnsq')"
   ]
  },
  {
   "cell_type": "code",
   "execution_count": 25,
   "metadata": {},
   "outputs": [],
   "source": [
    "access_token = r.json()['access_token']"
   ]
  },
  {
   "cell_type": "code",
   "execution_count": 26,
   "metadata": {},
   "outputs": [
    {
     "data": {
      "text/plain": [
       "u'v^1.1#i^1#p^3#f^0#r^0#I^3#t^H4sIAAAAAAAAAOVWXWwUVRTu9teCgKLBhpRkGSxGdHbv/O7O2F1Y+mM30nbplgYLQmbm3tlOuzuzzL3LthqS2ihGkQeoBJMaIIIGEIw1+KAPBggQHkxMwIRIjKg8IC+kBhPQCHp3+8O2BlDLQxP3ZXPPPXPO933n3HsP6C+vXLa1aeuNOZ6K4n39oL/Y4+Fmg8rysmfmlhQvLCsCBQ6eff1P9pcOlPxci7VUMq22IZx2bIy8vamkjdW8McRkXFt1NGxh1dZSCKvEUOOR5lUq7wNq2nWIYzhJxhutDzFQNjnImVpQhEE+qPPUao/HbHdCjBCQdaDLHC8bggF5QPcxzqCojYlmkxDDAy7IApEFQjsPVMCpIvApfKCT8XYgF1uOTV18gAnn4ar5b90CrPeGqmGMXEKDMOFopDHeGonWN7S01/oLYoXHdIgTjWTw5FWdA5G3Q0tm0L3T4Ly3Gs8YBsKY8YdHM0wOqkbGwfwH+HmpeSTykm5oMhARD2DggUjZ6LgpjdwbR85iQdbMu6rIJhbpu5+iVA29GxlkbNVCQ0Trvbm/1RktaZkWckNMw8rIi2viDW2MNx6Luc5mCyKYY8oFZEWSBUUUmbDuppHLymMpRuOMCTwlR51jQysnF/a2OGQlonjRJFU4RZUKVKFOrXarGzFJDkuhevyEekJnrpyj9cuQLjtXUZSiEnjzy/trP94Md8r/oNpBpCdK44FkCrzGQUO4Szvkzvq/aolwriqRWMyfw4J0rY9NaW4PIumkZiDWoPJmUsi1oCpIJi8ETcRCWTFZUTFNVpegzHImQgAhXTeU4P+jMwhxLT1D0ER3TN3I0wsxccNJo5iTtIw+ZqpL/p4Z64VeHGK6CEmrfn82m/VlBZ/jJvw8AJx/bfOquNGFUhoz4Wvd35m18l1hIPoVtlTSl6ZoemnT0eR2ggkLLoxpLumLo2SSGsZbdhK28FTrXUhG0ukonFn0mh3HTlqJLpZeoToryrrMamZQYQVBFBWJMwwJctPi3JywZgJletZDBbQ5npckkXavCACYFr96tHmm1TQAFS2gAI4VBSiwIpQ5VkNAYaWAgAIBJShDKE+Lc13Soie5neadWcSbHEwQnB41+o7MLFIgCJAZCGgslAz6lhiQVlPiFNZEOg8VKGoi/4+r6b/rpfy3l9g/eQgOF+V/3IDnMzDgGaZzNPCDGm4JWFxesqa05OGF2CLIZ2mmD1sJm852LvL1oL60ZrnF5Z511Z8c2lgwdu97CVRNDN6VJdzsgikcVN/ZKePmPTGHCwIRCDnRRNAJltzZLeUWlD7+cXvi0pFNR5cu5mvUX18+Fnv75psCmDPh5PGUFZUOeIpW7K3fcoNNNS4dHvFeut567ZuerXuCiW0fxZkO89it6K7UitPFTT/OO3/z0O0zO84duHjt65P7g3++RjZUX3huaOOKRdcqmt45/P7QduXdufsvvh776cSmXWfOPP3dh6efNSPdQg9+Y2TbH3tn3RpctPDKDy1q7bod83s7LN/awXXHP119Pb4lXHPu4ODZF/yXf/t9ib/pleBI46k95ze8Ojiyfv3w8YEF2W64s2rl7sGRw3WzKsmpxNmjQ0b9MjwAQle/j+/WHztw8MvtJ+DO6xdqk8sPlR3/Qt57dP63rZd++eq9p6SGh7Ji2+dX048eOX27qvokrqho9z7fHX5k6PKJ5XpL9oOqt251dlwZLd9f0/nuChANAAA='"
      ]
     },
     "execution_count": 26,
     "metadata": {},
     "output_type": "execute_result"
    }
   ],
   "source": [
    "access_token"
   ]
  },
  {
   "cell_type": "code",
   "execution_count": null,
   "metadata": {},
   "outputs": [],
   "source": [
    "access_token = 'v%5E1.1%23i%5E1%23I%5E3%23r%5E1%23p%5E3%23f%5E0%23t%5EUl41XzExOjVFRDBFN0MzQkRCNTFDMzU3NDY0MzY1RjRFRTk5NzU3XzBfMSNFXjI2MA%3D%3D'"
   ]
  },
  {
   "cell_type": "markdown",
   "metadata": {},
   "source": [
    "### Get Inventory Item"
   ]
  },
  {
   "cell_type": "code",
   "execution_count": 27,
   "metadata": {},
   "outputs": [],
   "source": [
    "from ebayrest import Client\n",
    "client = Client(\n",
    "    client_id='Moonligh-2e4b-46b6-af89-3344951cc5d1',\n",
    "    client_secret='080ef77a-d5cf-4cd1-a519-feb2d9d4a426',\n",
    "    token=access_token)"
   ]
  },
  {
   "cell_type": "code",
   "execution_count": 28,
   "metadata": {},
   "outputs": [
    {
     "name": "stdout",
     "output_type": "stream",
     "text": [
      "https://api.ebay.com/sell/inventory/v1/1313\n"
     ]
    }
   ],
   "source": [
    "r = client.inventory.get_inventory_item('1313')"
   ]
  },
  {
   "cell_type": "code",
   "execution_count": 29,
   "metadata": {
    "scrolled": true
   },
   "outputs": [
    {
     "data": {
      "text/plain": [
       "404"
      ]
     },
     "execution_count": 29,
     "metadata": {},
     "output_type": "execute_result"
    }
   ],
   "source": [
    "r.status_code"
   ]
  },
  {
   "cell_type": "code",
   "execution_count": 30,
   "metadata": {},
   "outputs": [
    {
     "data": {
      "text/plain": [
       "{'Accept-Encoding': 'application/gzip', 'X-EBAY-C-MARKETPLACE-ID': 'EBAY_US', 'Accept': 'application/json', 'User-Agent': 'python-requests/2.9.1', 'Accept-Charset': 'utf-8', 'Connection': 'keep-alive', 'Content-Type': 'application/json', 'Authorization': 'Bearer v^1.1#i^1#p^3#f^0#r^0#I^3#t^H4sIAAAAAAAAAOVWXWwUVRTu9teCgKLBhpRkGSxGdHbv/O7O2F1Y+mM30nbplgYLQmbm3tlOuzuzzL3LthqS2ihGkQeoBJMaIIIGEIw1+KAPBggQHkxMwIRIjKg8IC+kBhPQCHp3+8O2BlDLQxP3ZXPPPXPO933n3HsP6C+vXLa1aeuNOZ6K4n39oL/Y4+Fmg8rysmfmlhQvLCsCBQ6eff1P9pcOlPxci7VUMq22IZx2bIy8vamkjdW8McRkXFt1NGxh1dZSCKvEUOOR5lUq7wNq2nWIYzhJxhutDzFQNjnImVpQhEE+qPPUao/HbHdCjBCQdaDLHC8bggF5QPcxzqCojYlmkxDDAy7IApEFQjsPVMCpIvApfKCT8XYgF1uOTV18gAnn4ar5b90CrPeGqmGMXEKDMOFopDHeGonWN7S01/oLYoXHdIgTjWTw5FWdA5G3Q0tm0L3T4Ly3Gs8YBsKY8YdHM0wOqkbGwfwH+HmpeSTykm5oMhARD2DggUjZ6LgpjdwbR85iQdbMu6rIJhbpu5+iVA29GxlkbNVCQ0Trvbm/1RktaZkWckNMw8rIi2viDW2MNx6Luc5mCyKYY8oFZEWSBUUUmbDuppHLymMpRuOMCTwlR51jQysnF/a2OGQlonjRJFU4RZUKVKFOrXarGzFJDkuhevyEekJnrpyj9cuQLjtXUZSiEnjzy/trP94Md8r/oNpBpCdK44FkCrzGQUO4Szvkzvq/aolwriqRWMyfw4J0rY9NaW4PIumkZiDWoPJmUsi1oCpIJi8ETcRCWTFZUTFNVpegzHImQgAhXTeU4P+jMwhxLT1D0ER3TN3I0wsxccNJo5iTtIw+ZqpL/p4Z64VeHGK6CEmrfn82m/VlBZ/jJvw8AJx/bfOquNGFUhoz4Wvd35m18l1hIPoVtlTSl6ZoemnT0eR2ggkLLoxpLumLo2SSGsZbdhK28FTrXUhG0ukonFn0mh3HTlqJLpZeoToryrrMamZQYQVBFBWJMwwJctPi3JywZgJletZDBbQ5npckkXavCACYFr96tHmm1TQAFS2gAI4VBSiwIpQ5VkNAYaWAgAIBJShDKE+Lc13Soie5neadWcSbHEwQnB41+o7MLFIgCJAZCGgslAz6lhiQVlPiFNZEOg8VKGoi/4+r6b/rpfy3l9g/eQgOF+V/3IDnMzDgGaZzNPCDGm4JWFxesqa05OGF2CLIZ2mmD1sJm852LvL1oL60ZrnF5Z511Z8c2lgwdu97CVRNDN6VJdzsgikcVN/ZKePmPTGHCwIRCDnRRNAJltzZLeUWlD7+cXvi0pFNR5cu5mvUX18+Fnv75psCmDPh5PGUFZUOeIpW7K3fcoNNNS4dHvFeut567ZuerXuCiW0fxZkO89it6K7UitPFTT/OO3/z0O0zO84duHjt65P7g3++RjZUX3huaOOKRdcqmt45/P7QduXdufsvvh776cSmXWfOPP3dh6efNSPdQg9+Y2TbH3tn3RpctPDKDy1q7bod83s7LN/awXXHP119Pb4lXHPu4ODZF/yXf/t9ib/pleBI46k95ze8Ojiyfv3w8YEF2W64s2rl7sGRw3WzKsmpxNmjQ0b9MjwAQle/j+/WHztw8MvtJ+DO6xdqk8sPlR3/Qt57dP63rZd++eq9p6SGh7Ji2+dX048eOX27qvokrqho9z7fHX5k6PKJ5XpL9oOqt251dlwZLd9f0/nuChANAAA='}"
      ]
     },
     "execution_count": 30,
     "metadata": {},
     "output_type": "execute_result"
    }
   ],
   "source": [
    "r.request.headers"
   ]
  },
  {
   "cell_type": "code",
   "execution_count": 31,
   "metadata": {},
   "outputs": [
    {
     "data": {
      "text/plain": [
       "'https://api.ebay.com/sell/inventory/v1/1313'"
      ]
     },
     "execution_count": 31,
     "metadata": {},
     "output_type": "execute_result"
    }
   ],
   "source": [
    "r.request.url"
   ]
  },
  {
   "cell_type": "code",
   "execution_count": 32,
   "metadata": {},
   "outputs": [
    {
     "data": {
      "text/plain": [
       "{u'errors': [{u'category': u'REQUEST',\n",
       "   u'domain': u'ACCESS',\n",
       "   u'errorId': 2002,\n",
       "   u'longMessage': u'A resource (URI) associated with the request could not be resolved.',\n",
       "   u'message': u'Resource not found',\n",
       "   u'parameters': [{u'name': u'reason',\n",
       "     u'value': u'null for uri: http://api.ebay.com/sell/inventory/v1/1313'}]}]}"
      ]
     },
     "execution_count": 32,
     "metadata": {},
     "output_type": "execute_result"
    }
   ],
   "source": [
    "r.json()"
   ]
  },
  {
   "cell_type": "code",
   "execution_count": null,
   "metadata": {
    "collapsed": true
   },
   "outputs": [],
   "source": []
  }
 ],
 "metadata": {
  "anaconda-cloud": {},
  "kernelspec": {
   "display_name": "Python 2",
   "language": "python",
   "name": "python2"
  },
  "language_info": {
   "codemirror_mode": {
    "name": "ipython",
    "version": 2
   },
   "file_extension": ".py",
   "mimetype": "text/x-python",
   "name": "python",
   "nbconvert_exporter": "python",
   "pygments_lexer": "ipython2",
   "version": "2.7.14"
  }
 },
 "nbformat": 4,
 "nbformat_minor": 1
}
